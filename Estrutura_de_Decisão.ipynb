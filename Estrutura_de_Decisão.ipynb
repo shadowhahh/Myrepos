{
  "nbformat": 4,
  "nbformat_minor": 0,
  "metadata": {
    "colab": {
      "name": "Estrutura de Decisão",
      "provenance": [],
      "collapsed_sections": [],
      "authorship_tag": "ABX9TyNmdJIxzBrZND3avZl5Ea3k",
      "include_colab_link": true
    },
    "kernelspec": {
      "name": "python3",
      "display_name": "Python 3"
    },
    "language_info": {
      "name": "python"
    }
  },
  "cells": [
    {
      "cell_type": "markdown",
      "metadata": {
        "id": "view-in-github",
        "colab_type": "text"
      },
      "source": [
        "<a href=\"https://colab.research.google.com/github/shadowhahh/Myrepos/blob/main/Estrutura_de_Decis%C3%A3o.ipynb\" target=\"_parent\"><img src=\"https://colab.research.google.com/assets/colab-badge.svg\" alt=\"Open In Colab\"/></a>"
      ]
    },
    {
      "cell_type": "markdown",
      "source": [
        "Exercicio 1: Faça um Programa que peça dois números e imprima o maior deles. "
      ],
      "metadata": {
        "id": "48aUHPV4w1LG"
      }
    },
    {
      "cell_type": "code",
      "source": [
        "x = int(input(\"Digite um numero:\"))\n",
        "y = int(input(\"Digite um numero:\"))\n",
        "\n",
        "\n",
        "if x > y:\n",
        "    print(\"O valor\", x, 'é maior que',y)\n",
        "else:\n",
        "    print(\"O valor\", x, 'é menor que', y)"
      ],
      "metadata": {
        "colab": {
          "base_uri": "https://localhost:8080/"
        },
        "id": "CePeKjRFxCQ3",
        "outputId": "bd84e7be-7d30-4e85-f7c8-46ee53e06b98"
      },
      "execution_count": null,
      "outputs": [
        {
          "output_type": "stream",
          "name": "stdout",
          "text": [
            "Digite um numero:4\n",
            "Digite um numero:5\n",
            "O valor 4 é menor que 5\n"
          ]
        }
      ]
    },
    {
      "cell_type": "markdown",
      "source": [
        "Exercicio 2: Faça um Programa que peça um valor e mostre na tela se o valor é positivo ou negativo. "
      ],
      "metadata": {
        "id": "5Y1xaMiw0reu"
      }
    },
    {
      "cell_type": "code",
      "source": [
        "x = int(input(\"Digite um numero:\"))\n",
        "\n",
        "if x >= 0:\n",
        "    print(\"O valor\", x, 'é positivo')\n",
        "else:\n",
        "    print(\"O valor\", x, 'é negativo')"
      ],
      "metadata": {
        "colab": {
          "base_uri": "https://localhost:8080/"
        },
        "id": "r9gqXOMV0uOX",
        "outputId": "3da51388-e084-4764-a0fb-40c5811e8244"
      },
      "execution_count": null,
      "outputs": [
        {
          "output_type": "stream",
          "name": "stdout",
          "text": [
            "Digite um numero:-9\n",
            "O valor -9 é negativo\n"
          ]
        }
      ]
    },
    {
      "cell_type": "markdown",
      "source": [
        "Exercicio 3: Faça um Programa que verifique se uma letra digitada é \"F\" ou \"M\". Conforme a letra escrever: F - Feminino, M - Masculino, Sexo Inválido."
      ],
      "metadata": {
        "id": "fEu2Njr8JIS5"
      }
    },
    {
      "cell_type": "code",
      "source": [
        "x = input(\"Digite a letra do sexo:\")\n",
        "\n",
        "while x != 's':\n",
        "    if x == 'm':\n",
        "        print(\"Masculino\")\n",
        "    elif x == 'f':\n",
        "        print(\"Feminino\")\n",
        "    else:\n",
        "        print(\"Sexo Inválido\")\n",
        "    x = input(\"Digite a letra do sexo:\")\n",
        "\n",
        "print(\"Encerrando o programa!\")"
      ],
      "metadata": {
        "id": "BzZsc7d8JNmd"
      },
      "execution_count": null,
      "outputs": []
    },
    {
      "cell_type": "markdown",
      "source": [
        "Exercicio 4: Faça um Programa que verifique se uma letra digitada é vogal ou consoante."
      ],
      "metadata": {
        "id": "JgMFUzqaJZxB"
      }
    },
    {
      "cell_type": "code",
      "source": [
        "x = input(\"Digite uma letra: \")\n",
        "\n",
        "while x != 's':\n",
        "    if x == 'a' or x == 'e' or x == 'i' or x == 'o' or x == 'u':\n",
        "        print(\"vogal\")\n",
        "    else:\n",
        "        print(\"consoante\")\n",
        "\n",
        "    x = input(\"Digite uma letra : \")\n",
        "\n",
        "print(\"Encerrando o programa!\")\n"
      ],
      "metadata": {
        "id": "NIEDn5s4Jhh2"
      },
      "execution_count": null,
      "outputs": []
    },
    {
      "cell_type": "markdown",
      "source": [
        "Exercicio 5: Faça um programa para a leitura de duas notas parciais de um aluno. O programa deve calcular a média alcançada por aluno e apresentar:\n",
        "\n",
        "    A mensagem \"Aprovado\", se a média alcançada for maior ou igual a sete;\n",
        "    A mensagem \"Reprovado\", se a média for menor do que sete;\n",
        "    A mensagem \"Aprovado com Distinção\", se a média for igual a dez."
      ],
      "metadata": {
        "id": "B1Kf4QMmJpVi"
      }
    },
    {
      "cell_type": "code",
      "source": [
        "Aluno = input(\"Digite o nome do aluno: \")\n",
        "x = float(input(\"Digite uma nota 1: \"))\n",
        "y = float(input(\"Digite uma nota 2: \"))\n",
        "\n",
        "\n",
        "media = (x + y) / 2\n",
        "while media != 0:\n",
        "    if media >= 7 and media  < 10:\n",
        "        print(\"Aluno:\", Aluno)\n",
        "        print(\"Media:\",round(media, 1))\n",
        "        print(\"Aprovado\")\n",
        "    elif media == 10:\n",
        "        print(\"Aluno:\", Aluno)\n",
        "        print(\"Media:\", round(media, 1))\n",
        "        print(\"Aprovado com distinção\")\n",
        "    else:\n",
        "        print(\"Aluno:\", Aluno)\n",
        "        print(\"Media:\", round(media, 1))\n",
        "        print(\"Reprovado\")\n",
        "    Aluno = input(\"Digite o nome do aluno: \")\n",
        "    x = float(input(\"Digite uma nota 1: \"))\n",
        "    y = float(input(\"Digite uma nota 2: \"))\n",
        "    media = (x + y) / 2"
      ],
      "metadata": {
        "id": "8JiGCGtNJumv"
      },
      "execution_count": null,
      "outputs": []
    },
    {
      "cell_type": "markdown",
      "source": [
        "Exercicio 6: Faça um Programa que leia três números e mostre o maior deles."
      ],
      "metadata": {
        "id": "_Bv3IAMoJ6qa"
      }
    },
    {
      "cell_type": "code",
      "source": [
        "x = float(input(\"Digite o 1º numero: \"))\n",
        "y = float(input(\"Digite o 2º numero: \"))\n",
        "z = float(input(\"Digite o 3º numero: \"))\n",
        "\n",
        "\n",
        "while x != 0:\n",
        "    if x > y and x > z:\n",
        "        print(x,\"é maior\")\n",
        "    elif y > x and y > z:\n",
        "        print(y, \"é maior\")\n",
        "    elif z > x and z > y:\n",
        "        print(z, \"é maior\")\n",
        "    else:\n",
        "        print(\"Não é possível definir\")\n",
        "\n",
        "    x = float(input(\"Digite o 1º numero: \"))\n",
        "    y = float(input(\"Digite o 2º numero: \"))\n",
        "    z = float(input(\"Digite o 3º numero: \"))"
      ],
      "metadata": {
        "id": "yGyQSeezJ_Ku"
      },
      "execution_count": null,
      "outputs": []
    },
    {
      "cell_type": "markdown",
      "source": [
        "Exercicio 7: Faça um Programa que leia três números e mostre o maior e o menor deles. "
      ],
      "metadata": {
        "id": "GX8dTNBjKCYf"
      }
    },
    {
      "cell_type": "code",
      "source": [
        "x = float(input(\"Digite o 1º numero: \"))\n",
        "y = float(input(\"Digite o 2º numero: \"))\n",
        "z = float(input(\"Digite o 3º numero: \"))\n",
        "\n",
        "while x != 0:\n",
        "    if x > y and x > z:\n",
        "        print(x,\"é maior\")\n",
        "    elif y > x and y > z:\n",
        "        print(y, \"é maior\")\n",
        "    elif z > x and z > y:\n",
        "        print(z, \"é maior\")\n",
        "    else:\n",
        "        print(\"Não é possível definir\")\n",
        "    if x < y and x < z:\n",
        "        print(x, \"é menor\")\n",
        "    elif y < x and y < z:\n",
        "        print(y, \"é menor\")\n",
        "    elif z < x and z < y:\n",
        "        print(z, \"é menor\")\n",
        "    else:\n",
        "        print(\"Não é possível definir\")\n",
        "\n",
        "    x = float(input(\"Digite o 1º numero: \"))\n",
        "    y = float(input(\"Digite o 2º numero: \"))\n",
        "    z = float(input(\"Digite o 3º numero: \"))"
      ],
      "metadata": {
        "id": "niuEdw7AKHWa"
      },
      "execution_count": null,
      "outputs": []
    },
    {
      "cell_type": "markdown",
      "source": [
        "Exercicio 8: Faça um programa que pergunte o preço de três produtos e informe qual produto você deve comprar, sabendo que a decisão é sempre pelo mais barato."
      ],
      "metadata": {
        "id": "-EMi6FvJKLOD"
      }
    },
    {
      "cell_type": "code",
      "source": [
        "lar = 1\n",
        "mac = 1.5\n",
        "ban = 3\n",
        "\n",
        "print(\"Qual o preços desses produtos ? \")\n",
        "\n",
        "print(\"1 - Laranja\")\n",
        "print(\"2 - Maçã\")\n",
        "print(\"3 - Banana\")\n",
        "print(\"0 - Sair do Programa!\")\n",
        "print('\\n')\n",
        "x = int(input(\"Escolha uma das opções acima para ver o preço: \"))\n",
        "print('\\n')\n",
        "while x !=0:\n",
        "    if x == 1:\n",
        "        print(\"A laranja custa R$\",lar,\",00\")\n",
        "    elif x == 2:\n",
        "        print(\"A maçã custa R$\",mac,)\n",
        "    elif x == 3:\n",
        "        print(\"A banana custa R$\",ban,\",00\")\n",
        "    else:\n",
        "        print(\"Valor inválido\")\n",
        "\n",
        "    print(\"Qual o produto deseja levar ?\")\n",
        "# while x != 1 and x != 2 and x != 3:\n",
        "    print(\"1 - Laranja\")\n",
        "    print(\"2 - Maçã\")\n",
        "    print(\"3 - Banana\")\n",
        "    print('\\n')\n",
        "    y = int(input(\"Escolha uma das opções acima para a compra: \"))\n",
        "    print('\\n')\n",
        "    if y == 1:\n",
        "        print(\"Laranja é o produto mais barato\")\n",
        "        q = int(input(\"Quantas unidades?: \"))\n",
        "        s = q * lar\n",
        "        print(\"O valor o total é:\",\"R$\",s,\",00\")\n",
        "    elif y == 2:\n",
        "        print(\"Maça não é o produto mais caro, mas também não é o mais barato! Que tal laranja?\")\n",
        "        q = int(input(\"Quantas unidades?: \"))\n",
        "        s = q * mac\n",
        "        print(\"O valor o total é:\", \"R$\", s,)\n",
        "    elif y == 3:\n",
        "        print(\"Banana é é o produto mais caro. Em compensação, laranja é o mais barato!\")\n",
        "        q = int(input(\"Quantas unidades?: \"))\n",
        "        s = q * ban\n",
        "        print(\"O valor o total é:\", \"R$\", s, \",00\")\n",
        "    else:\n",
        "        print(\"Valor inválido\")\n",
        "    print('\\n')\n",
        "    print(\"Qual o preços desses produtos ? \")\n",
        "    print(\"1 - Laranja\")\n",
        "    print(\"2 - Maçã\")\n",
        "    print(\"3 - Banana\")\n",
        "    print('\\n')\n",
        "    x = int(input(\"Escolha uma das opções acima para ver o preço: \"))\n",
        "print(\"Encerrando o programa!\")"
      ],
      "metadata": {
        "id": "xOhPy3GFKQOX"
      },
      "execution_count": null,
      "outputs": []
    },
    {
      "cell_type": "markdown",
      "source": [
        "Exercicio 9: Faça um Programa que leia três números e mostre-os em ordem decrescente. "
      ],
      "metadata": {
        "id": "6915BrkOKU6Y"
      }
    },
    {
      "cell_type": "code",
      "source": [
        "x = int(input(\"Digite o 1º numero: \"))\n",
        "y = int(input(\"Digite o 2º numero: \"))\n",
        "z = int(input(\"Digite o 3º numero: \"))\n",
        "\n",
        "s = [x,y,z]\n",
        "\n",
        "s.sort()\n",
        "print(s)\n",
        "\n",
        "s.reverse()\n",
        "print(s)\n",
        "\n",
        "print(sorted(s))\n",
        "print(sorted(s, reverse=True))"
      ],
      "metadata": {
        "id": "hEhV_2kPKYir"
      },
      "execution_count": null,
      "outputs": []
    },
    {
      "cell_type": "markdown",
      "source": [
        "Exercicio 10: Faça um Programa que pergunte em que turno você estuda. Peça para digitar M-matutino ou V-Vespertino ou N- Noturno. \n",
        "Imprima a mensagem \"Bom Dia!\", \"Boa Tarde!\" ou \"Boa Noite!\" ou \"Valor Inválido!\", conforme o caso. "
      ],
      "metadata": {
        "id": "FBZaWPwIKdhd"
      }
    },
    {
      "cell_type": "code",
      "source": [
        "print(\"Em que turno vc estuda? \")\n",
        "x = (input(\"Escolha entre M, V ou N: \"))\n",
        "\n",
        "\n",
        "while x != '0':\n",
        "    if x == 'M' or x == 'm':\n",
        "        print(\"\\n\")\n",
        "        print(\"Bom dia!\")\n",
        "    elif x == 'V' or x == 'v':\n",
        "        print(\"\\n\")\n",
        "        print(\"Boa tarde!\")\n",
        "    elif x == 'N' or x == 'n':\n",
        "        print(\"\\n\")\n",
        "        print(\"Boa noite!\")\n",
        "    else:\n",
        "        print(\"Valor Inválido!\")\n",
        "        print(\"\\n\")\n",
        "    print(\"Em que turno vc estuda? \")\n",
        "    x = (input(\"Escolha entre M, V ou N: \"))\n",
        "print(\"\\n\")\n",
        "print(\"Programa encerrado!\")"
      ],
      "metadata": {
        "id": "P8G6AtgMKm3r"
      },
      "execution_count": null,
      "outputs": []
    },
    {
      "cell_type": "markdown",
      "source": [
        "Exercicio 11: As Organizações Tabajara resolveram dar um aumento de salário aos seus colaboradores e lhe contraram para desenvolver o programa que calculará os reajustes.\n",
        "\n",
        "    Faça um programa que recebe o salário de um colaborador e o reajuste segundo o seguinte critério, baseado no salário atual:\n",
        "    salários até R$ 280,00 (incluindo) : aumento de 20%\n",
        "    salários entre R$ 280,00 e R$ 700,00 : aumento de 15%\n",
        "    salários entre R$ 700,00 e R$ 1500,00 : aumento de 10%\n",
        "    salários de R$ 1500,00 em diante : aumento de 5% Após o aumento ser realizado, informe na tela:\n",
        "    o salário antes do reajuste;\n",
        "    o percentual de aumento aplicado;\n",
        "    o valor do aumento;\n",
        "    o novo salário, após o aumento. "
      ],
      "metadata": {
        "id": "eeIkUdf-Kqxl"
      }
    },
    {
      "cell_type": "code",
      "source": [
        "x = int(input(\"informe o valor do salario do colaborador: \"))\n",
        "while x != 0:\n",
        "    if x <= 280:\n",
        "        reajuste = x + ((x / 100) * 20)\n",
        "        print(\"Salário atual: \",x,',00')\n",
        "        print(\"Percentual de aumento de 20 %\")\n",
        "        print(\"Valor do Aumento: \",((x / 100) * 20))\n",
        "        print(\"Novo Salário: \",reajuste)\n",
        "    elif x > 280 and x <= 700:\n",
        "        reajuste1 = x + ((x / 100) * 15)\n",
        "        print(\"Salário atual: \", x, ',00')\n",
        "        print(\"Percentual de aumento de 15 %\")\n",
        "        print(\"Valor do Aumento: \", ((x / 100) * 15))\n",
        "        print(\"Novo Salário: \", reajuste1)\n",
        "    elif x > 700 and x <=1500:\n",
        "        reajuste2 = x + ((x / 100) * 10)\n",
        "        print(\"Salário atual: \", x, ',00')\n",
        "        print(\"Percentual de aumento de 10 %\")\n",
        "        print(\"Valor do Aumento: \", ((x / 100) * 10))\n",
        "        print(\"Novo Salário: \", reajuste2)\n",
        "    elif x > 1500:\n",
        "        reajuste3 = x + ((x / 100) * 5)\n",
        "        print(\"Salário atual: \", x, ',00')\n",
        "        print(\"Percentual de aumento de 5 %\")\n",
        "        print(\"Valor do Aumento: \", ((x / 100) * 5))\n",
        "        print(\"Novo Salário: \", reajuste3)\n",
        "    else:\n",
        "        print(\"valor invalido\")\n",
        "    x = int(input(\"informe o valor do salario do colaborador: \"))\n",
        "print(\"Programa encerrado!\")"
      ],
      "metadata": {
        "id": "vc7YFm-sKv_w"
      },
      "execution_count": null,
      "outputs": []
    },
    {
      "cell_type": "markdown",
      "source": [
        "Exercicio 12: Faça um programa para o cálculo de uma folha de pagamento, sabendo que os descontos são do Imposto de Renda, que depende do salário bruto \n",
        "(conforme tabela abaixo) e 3% para o Sindicato e que o FGTS corresponde a 11% do Salário Bruto, mas não é descontado (é a empresa que deposita). \n",
        "O Salário Líquido corresponde ao Salário Bruto menos os descontos. O programa deverá pedir ao usuário o valor da sua hora e a quantidade de horas trabalhadas no mês.\n",
        "\n",
        "    Desconto do IR:\n",
        "    Salário Bruto até 900 (inclusive) - isento\n",
        "    Salário Bruto até 1500 (inclusive) - desconto de 5%\n",
        "    Salário Bruto até 2500 (inclusive) - desconto de 10%\n",
        "    Salário Bruto acima de 2500 - desconto de 20% Imprima na tela as informações, dispostas conforme o exemplo abaixo. No exemplo o valor da hora é 5 e a quantidade de hora é 220.\n",
        "\n",
        "            Salário Bruto: (5 * 220)        : R$ 1100,00\n",
        "            (-) IR (5%)                     : R$   55,00  \n",
        "            (-) INSS ( 10%)                 : R$  110,00\n",
        "            FGTS (11%)                      : R$  121,00\n",
        "            Total de descontos              : R$  165,00\n",
        "            Salário Liquido                 : R$  935,00"
      ],
      "metadata": {
        "id": "hpE0AT7RK0Rx"
      }
    },
    {
      "cell_type": "code",
      "source": [
        "x = int(input(\"Informe o valor da hora trabalhada: \"))\n",
        "y = int(input(\"Informe a quantidade de horas trabalhadas no mês: \"))\n",
        "while x != 0 and y != 0:\n",
        "    sb = x * y\n",
        "    if sb > 0 and sb <= 900:\n",
        "        ir = ((sb / 100) * 5)\n",
        "        inss = ((sb / 100) * 10)\n",
        "        fgts = ((sb / 100) * 11)\n",
        "        tdes = ir + inss\n",
        "        print(\"Salario bruto:     \", sb)\n",
        "        print(\"IR:    Isento\")\n",
        "        print(\"INSS:    Isento\")\n",
        "        print(\"FGTS:      \", fgts)\n",
        "        print(\"Total de descontos:       Isento\")\n",
        "        print(\"Salário liquido:       \", sb)\n",
        "    elif sb > 900 and sb <=1500:\n",
        "        ir = ((sb / 100) * 5)\n",
        "        inss = ((sb /100) * 10)\n",
        "        fgts = ((sb / 100) * 11)\n",
        "        tdes = ir + inss\n",
        "        print(\"Salario bruto:     \",sb)\n",
        "        print(\"IR:      \", ir)\n",
        "        print(\"INSS:     \", inss)\n",
        "        print(\"FGTS:      \", fgts)\n",
        "        print(\"Total de descontos:       \", ir + inss)\n",
        "        print(\"Salário liquido:       \", sb - tdes)\n",
        "    elif sb > 1500 and sb <=2500:\n",
        "        ir = ((sb / 100) * 10)\n",
        "        inss = ((sb / 100) * 10)\n",
        "        fgts = ((sb / 100) * 11)\n",
        "        tdes = ir + inss\n",
        "        print(\"Salario bruto:     \", sb)\n",
        "        print(\"IR:      \", ir)\n",
        "        print(\"INSS:     \", inss)\n",
        "        print(\"FGTS:      \", fgts)\n",
        "        print(\"Total de descontos:       \", ir + inss)\n",
        "        print(\"Salário liquido:       \", sb - tdes)\n",
        "    elif sb > 2500:\n",
        "        ir = ((sb / 100) * 20)\n",
        "        inss = ((sb / 100) * 10)\n",
        "        fgts = ((sb / 100) * 11)\n",
        "        tdes = ir + inss\n",
        "        print(\"Salario bruto:     \", sb)\n",
        "        print(\"IR:      \", ir)\n",
        "        print(\"INSS:     \", inss)\n",
        "        print(\"FGTS:      \", fgts)\n",
        "        print(\"Total de descontos:       \", (ir + inss))\n",
        "        print(\"Salário liquido:       \", sb - tdes)\n",
        "    else:\n",
        "        print(\"Valor inválido\")\n",
        "    x = int(input(\"Informe o valor da hora trabalhada: \"))\n",
        "    y = int(input(\"Informe a quantidade de horas trabalhadas no mês: \"))"
      ],
      "metadata": {
        "id": "ECheFrHIK__h"
      },
      "execution_count": null,
      "outputs": []
    },
    {
      "cell_type": "markdown",
      "source": [
        "Exercicio 13: Faça um Programa que leia um número e exiba o dia correspondente da semana. (1-Domingo, 2- Segunda, etc.), se digitar outro valor deve aparecer valor inválido."
      ],
      "metadata": {
        "id": "N0pxdyBzLHX0"
      }
    },
    {
      "cell_type": "code",
      "source": [
        "x = int(input(\"Digite o dia: \"))\n",
        "\n",
        "while x != 0:\n",
        "    if x == 1:\n",
        "        print(\"Segunda-feira\")\n",
        "    elif x == 2:\n",
        "        print(\"Terça-feira\")\n",
        "    elif x == 3:\n",
        "        print(\"Quarta-feira\")\n",
        "    elif x == 4:\n",
        "        print(\"Quinta-feira\")\n",
        "    elif x == 5:\n",
        "        print(\"Sexta-feira\")\n",
        "    elif x == 6:\n",
        "        print(\"Sábado\")\n",
        "    elif x == 7:\n",
        "        print(\"Domingo\")\n",
        "    else:\n",
        "        print(\"Valor Inválido!\")\n",
        "        print(\"Tente novamente!\")\n",
        "    x = int(input(\"Digite o dia: \"))\n",
        "print(\"Programa Encerrado!\")"
      ],
      "metadata": {
        "id": "8PPBnyJ4LQC_"
      },
      "execution_count": null,
      "outputs": []
    },
    {
      "cell_type": "markdown",
      "source": [
        "Exercicio 14: Faça um programa que lê as duas notas parciais obtidas por um aluno numa disciplina ao longo de um semestre, e calcule a sua média. A atribuição de conceitos obedece à tabela abaixo:\n",
        "\n",
        "      Média de Aproveitamento  Conceito\n",
        "      Entre 9.0 e 10.0        A\n",
        "      Entre 7.5 e 9.0         B\n",
        "      Entre 6.0 e 7.5         C\n",
        "      Entre 4.0 e 6.0         D\n",
        "      Entre 4.0 e zero        E\n",
        " algoritmo deve mostrar na tela as notas, a média, o conceito correspondente e a mensagem “APROVADO” se o conceito for A, B ou C ou “REPROVADO” se o conceito for D ou E."
      ],
      "metadata": {
        "id": "60RFCVUXLQ3Y"
      }
    },
    {
      "cell_type": "code",
      "source": [
        "x = float(input(\"Digite a 1º nota: \"))\n",
        "y = float(input(\"Digite a 2º nota: \"))\n",
        "\n",
        "m = (x + y) /2\n",
        "\n",
        "while m != 11:\n",
        "    if m > 9.0 and m <=10.0:\n",
        "        print(\"1º nota: \", x)\n",
        "        print(\"2º nota: \", y)\n",
        "        print(\"Média: \", m)\n",
        "        print(\"O aluno obteve nota A\")\n",
        "        print(\"O aluno foi Aprovado!\")\n",
        "    elif m > 7.5 and m <=9.0:\n",
        "        print(\"1º nota: \", x)\n",
        "        print(\"2º nota: \", y)\n",
        "        print(\"Média: \", m)\n",
        "        print(\"O aluno obteve nota B\")\n",
        "        print(\"O aluno foi Aprovado!\")\n",
        "    elif m > 6.0 and m <= 7.5:\n",
        "        print(\"1º nota: \", x)\n",
        "        print(\"2º nota: \", y)\n",
        "        print(\"Média: \", m)\n",
        "        print(\"O aluno obteve nota C\")\n",
        "        print(\"O aluno foi Aprovado!\")\n",
        "    elif m > 4.0 and m <= 6.0:\n",
        "        print(\"1º nota: \", x)\n",
        "        print(\"2º nota: \", y)\n",
        "        print(\"Média: \", m)\n",
        "        print(\"O aluno obteve nota D\")\n",
        "        print(\"O aluno foi Reprovado!\")\n",
        "    elif m == 0 or m <= 4.0:\n",
        "        print(\"1º nota: \", x)\n",
        "        print(\"2º nota: \", y)\n",
        "        print(\"Média: \", m)\n",
        "        print(\"O aluno obteve nota E\")\n",
        "        print(\"O aluno foi Reprovado!\")\n",
        "    else:\n",
        "        print(\"Nota Inválida!\")\n",
        "\n",
        "    x = float(input(\"Digite a 1º nota: \"))\n",
        "    y = float(input(\"Digite a 2º nota: \"))\n",
        "    m = (x + y) / 2\n",
        "print(\"Programa Encerrado!\")"
      ],
      "metadata": {
        "id": "XL0ZiTzsLWp7"
      },
      "execution_count": null,
      "outputs": []
    },
    {
      "cell_type": "markdown",
      "source": [
        "Exercicio 15: Faça um Programa que peça os 3 lados de um triângulo. O programa deverá informar se os valores podem ser um triângulo. Indique, caso os lados formem um triângulo, se o mesmo é: equilátero, isósceles ou escaleno.\n",
        "\n",
        "    Dicas:\n",
        "    Três lados formam um triângulo quando a soma de quaisquer dois lados for maior que o terceiro;\n",
        "    Triângulo Equilátero: três lados iguais;\n",
        "    Triângulo Isósceles: quaisquer dois lados iguais;\n",
        "    Triângulo Escaleno: três lados diferentes; "
      ],
      "metadata": {
        "id": "UKtkN9sTLaxm"
      }
    },
    {
      "cell_type": "code",
      "source": [
        "x = float(input(\"Digite o 1º Lado: \"))\n",
        "y = float(input(\"Digite o 2º Lado: \"))\n",
        "z = float(input(\"Digite o 3º Lado: \"))\n",
        "w = float(input(\"Digite o ânguloº: \"))\n",
        "\n",
        "while x != 0:\n",
        "    if x == y == z and w == 180:\n",
        "        print(\"Lado 1: \",x)\n",
        "        print(\"Lado 2: \",y)\n",
        "        print(\"Lado 3: \",z)\n",
        "        print(\"Equilatero: 3 lados iguais com angulo interno de 60º\")\n",
        "    elif x == y and x != z or \\\n",
        "         x == z and x != y or \\\n",
        "         y == x and y != z or \\\n",
        "         y == z and y != x or \\\n",
        "         z == y and z != x or \\\n",
        "         z == x and z != y:\n",
        "        print(\"Lado 1: \", x)\n",
        "        print(\"Lado 2: \", y)\n",
        "        print(\"Lado 3: \", z)\n",
        "        print(\"Isósceles: 2 lados iguais com angulo variável\")\n",
        "    elif x != y != z and w == 90:\n",
        "        print(\"Lado 1: \", x)\n",
        "        print(\"Lado 2: \", y)\n",
        "        print(\"Lado 3: \", z)\n",
        "        print(\"Triângulo Retângulo: 3 lados diferentes com um dos angulos internos igual a 90º\")\n",
        "    elif x != y != z and w > 0 and w < 90:\n",
        "        print(\"Lado 1: \", x)\n",
        "        print(\"Lado 2: \", y)\n",
        "        print(\"Lado 3: \", z)\n",
        "        print(\"Triângulo Acutângulo: 3 lados diferentes com angulo interno menor que 90º\")\n",
        "    elif x != y != z and w > 90:\n",
        "        print(\"Lado 1: \", x)\n",
        "        print(\"Lado 2: \", y)\n",
        "        print(\"Lado 3: \", z)\n",
        "        print(\"Triângulo Obtusângulo: 3 lados diferentes com angulo interno maior que 90º\")\n",
        "    elif x != y != z:\n",
        "        print(\"Lado 1: \", x)\n",
        "        print(\"Lado 2: \", y)\n",
        "        print(\"Lado 3: \", z)\n",
        "        print(\"Escaleno: 3 lados diferentes com angulo variável\")"
      ],
      "metadata": {
        "id": "m00GIr3DLf0A"
      },
      "execution_count": null,
      "outputs": []
    },
    {
      "cell_type": "markdown",
      "source": [
        "Exercicio 16: Faça um programa que calcule as raízes de uma equação do segundo grau, na forma ax2 + bx + c. \n",
        "O programa deverá pedir os valores de a, b e c e fazer as consistências, informando ao usuário nas seguintes situações:\n",
        "\n",
        "    Se o usuário informar o valor de A igual a zero, a equação não é do segundo grau e o programa não deve fazer pedir os demais valores, sendo encerrado;\n",
        "    Se o delta calculado for negativo, a equação não possui raizes reais. Informe ao usuário e encerre o programa;\n",
        "    Se o delta calculado for igual a zero a equação possui apenas uma raiz real; informe-a ao usuário;\n",
        "    Se o delta for positivo, a equação possui duas raiz reais; informe-as ao usuário; "
      ],
      "metadata": {
        "id": "OG_pfLJ8LsW4"
      }
    },
    {
      "cell_type": "code",
      "source": [
        "a = int(input(\"Digite o valor de a: \"))\n",
        "\n",
        "while a != 0:\n",
        "    b = int(input(\"Digite o valor de b: \"))\n",
        "    c = int(input(\"Digite o valor de c: \"))\n",
        "    delta = (b ** 2) - 4 * a * c\n",
        "    x1 = (- b + (delta ** 0.5)) / (2 * a)\n",
        "    x2 = (- b - (delta ** 0.5)) / (2 * a)\n",
        "\n",
        "    if delta == 0:\n",
        "        print(\"delta =\", delta)\n",
        "        print(\"Baskára = \",b,\"+\",delta**.5, \"/\",(2*a))\n",
        "        print(\"X1 =\",- b + delta**.5, \"/\",(2*a))\n",
        "        print(\"X2 =\",- b - delta**.5, \"/\",(2*a))\n",
        "        print(\"x1 =\",x1)\n",
        "        print(\"x2 =\",x2)\n",
        "        print(\"delta =\",delta)\n",
        "        print(\"A equação possui apenas uma raiz\")\n",
        "    elif delta > 0:\n",
        "        print(\"delta =\", delta)\n",
        "        print(\"Baskára = \", b, \"+\", delta ** .5, \"/\", (2 * a))\n",
        "        print(\"X1 =\", - b + delta ** .5, \"/\", (2 * a))\n",
        "        print(\"X2 =\", - b - delta ** .5, \"/\", (2 * a))\n",
        "        print(\"x1 =\", x1)\n",
        "        print(\"x2 =\", x2)\n",
        "        print(\"A equação possui duas raizes,\",\"X1 = \", x1, \" e \", \"X2 = \",x2)\n",
        "    else:\n",
        "        print(\"delta =\", delta)\n",
        "        print(\"Equação não possui raizes\")\n",
        "        print(\"Programa encerrado!\")\n",
        "        break\n",
        "\n",
        "    a = int(input(\"Digite o valor de a: \"))"
      ],
      "metadata": {
        "id": "W4OpwVNDLxC1"
      },
      "execution_count": null,
      "outputs": []
    },
    {
      "cell_type": "markdown",
      "source": [
        "Exercicio 17: Faça um Programa que peça um número correspondente a um determinado ano e em seguida informe se este ano é ou não bissexto."
      ],
      "metadata": {
        "id": "t09XZdXPL0xe"
      }
    },
    {
      "cell_type": "code",
      "source": [
        "#forma 1\n",
        "\n",
        "import calendar\n",
        "\n",
        "\n",
        "x = int(input(\"Digite o ano: \"))\n",
        "\n",
        "if (calendar.isleap(x)):\n",
        "    print(\"Ano de\",x,\"é bissexto\")\n",
        "else:\n",
        "    print(\"Ano\",x,\"não é bissexto\")\n",
        "\n",
        "print(\"A quantidade de anos bissextos ate 2030 é de: \",end=\"\")\n",
        "print(calendar.leapdays(x,2030))\n",
        "\n",
        "\n",
        "\n",
        "#forma 2\n",
        "\n",
        "x = int(input(\"Digite o ano: \"))\n",
        "\n",
        "while x != 0:\n",
        "    if x % 4 == 0 and x % 100 != 0:\n",
        "        print(\"É bissexto\")\n",
        "    else:\n",
        "        print(\"Não é bissexto\")\n",
        "    x = int(input(\"Digite o ano: \"))\n",
        "print(\"Programa encerrado!\")"
      ],
      "metadata": {
        "id": "Lqo4p9qXL6qo"
      },
      "execution_count": null,
      "outputs": []
    },
    {
      "cell_type": "markdown",
      "source": [
        "Exercicio 18: Faça um Programa que peça uma data no formato dd/mm/aaaa e determine se a mesma é uma data válida"
      ],
      "metadata": {
        "id": "LLxdV9IxMCOl"
      }
    },
    {
      "cell_type": "code",
      "source": [
        "x = int(input(\"Digite o dia: \"))\n",
        "\n",
        "while x != 0:\n",
        "    y = int(input(\"Digite o mês: \"))\n",
        "    z = int(input(\"Digite o ano: \"))\n",
        "    if x >= 1 and x <=29 and y == 2  and z % 4 == 0:\n",
        "        print(\"dia:\",x,\"mês:\",y,\"ano:\",z,end=\"\")\n",
        "        print(\"\\nFormato de Data Válida\")\n",
        "        print(\"Ano Bissexto\")\n",
        "    elif x >= 1 and x <=31 and y >=1 and y <=12:\n",
        "        print(\"dia:\",x,\"mês:\",y,\"ano:\",z,end=\"\")\n",
        "        print(\"\\nFormato de Data Válida\")\n",
        "        print(\"Não é Ano Bissexto\")\n",
        "    else:\n",
        "        print(\"Formato de Data Válida!\")\n",
        "    x = int(input(\"Digite o dia: \"))\n",
        "print(\"Programa Encerrado!\")"
      ],
      "metadata": {
        "id": "xhEu0LV8MGGx"
      },
      "execution_count": null,
      "outputs": []
    },
    {
      "cell_type": "markdown",
      "source": [
        "Exercicio 19: Faça um Programa que leia um número inteiro menor que 1000 e imprima a quantidade de centenas, dezenas e unidades do mesmo.\n",
        "\n",
        "    Observando os termos no plural a colocação do \"e\", da vírgula entre outros. Exemplo:\n",
        "    326 = 3 centenas, 2 dezenas e 6 unidades\n",
        "    12 = 1 dezena e 2 unidades Testar com: 326, 300, 100, 320, 310,305, 301, 101, 311, 111, 25, 20, 10, 21, 11, 1, 7 e 16 "
      ],
      "metadata": {
        "id": "YbYha1kaMJQx"
      }
    },
    {
      "cell_type": "code",
      "source": [
        "x = int(input(\"Digite um valor: \"))\n",
        "\n",
        "if x < 1000:\n",
        "    n1 = x // 100 % 10\n",
        "    n2 = x // 10 % 10\n",
        "    n3 = x // 1 % 10\n",
        "    n4 = 50\n",
        "    n5 = 100\n",
        "\n",
        "    print(\"Unidade: {}\".format(n1))\n",
        "    print(\"Unidade: {}\".format(n2))\n",
        "    print(\"Unidade: {}\".format(n3))\n",
        "\n",
        "    if format(n1) > str(1) and format(n1) != 1:\n",
        "        q = \"Centenas\"\n",
        "    elif format(n1) <= str(1):\n",
        "        q = \"Centena\"\n",
        "\n",
        "    if format(n2) > str(1) and format(n2) != 1:\n",
        "        q1 = \"Dezenas\"\n",
        "    elif format(n2) <= str(1):\n",
        "\n",
        "        q1 = \"Dezena\"\n",
        "    if format(n3) > str(1) and format(n3) != 1:\n",
        "        q2 = \"Unidades\"\n",
        "    elif format(n3) <= str(1):\n",
        "        q2 = \"Unidade\"\n",
        "\n",
        "    print(n1,q.format(n1),n2, q1.format(n2),\"e\",n3, q2.format(n3))\n",
        "else:\n",
        "    print(\"Valor Inválido\")\n",
        "    print(\"Tente Novamente!\")\n",
        "\n",
        "print(\"Programa Encerrado!\")"
      ],
      "metadata": {
        "id": "9zw6ajQbMNd5",
        "outputId": "73eeb327-374c-4aa6-e65a-fe5e86491d6a",
        "colab": {
          "base_uri": "https://localhost:8080/"
        }
      },
      "execution_count": null,
      "outputs": [
        {
          "output_type": "stream",
          "name": "stdout",
          "text": [
            "Digite um valor: 425\n",
            "Unidade: 4\n",
            "Unidade: 2\n",
            "Unidade: 5\n",
            "4 Centenas 2 Dezenas e 5 Unidades\n",
            "Programa Encerrado!\n"
          ]
        }
      ]
    },
    {
      "cell_type": "markdown",
      "source": [
        "Exercicio 20: Faça um Programa para leitura de três notas parciais de um aluno. O programa deve calcular a média alcançada por aluno e presentar:\n",
        "\n",
        "    A mensagem \"Aprovado\", se a média for maior ou igual a 7, com a respectiva média alcançada;\n",
        "    A mensagem \"Reprovado\", se a média for menor do que 7, com a respectiva média alcançada;\n",
        "    A mensagem \"Aprovado com Distinção\", se a média for igual a 10. "
      ],
      "metadata": {
        "id": "ny85W5IqMULk"
      }
    },
    {
      "cell_type": "code",
      "source": [
        "Aluno = input(\"Digite o nome do aluno: \")\n",
        "x = float(input(\"Digite uma nota 1: \"))\n",
        "y = float(input(\"Digite uma nota 2: \"))\n",
        "\n",
        "\n",
        "media = (x + y) / 2\n",
        "while media != 0:\n",
        "    if media >= 7 and media  < 10:\n",
        "        print(\"Aluno:\", Aluno)\n",
        "        print(\"Media:\",round(media, 1))\n",
        "        print(\"Aprovado\")\n",
        "    elif media == 10:\n",
        "        print(\"Aluno:\", Aluno)\n",
        "        print(\"Media:\", round(media, 1))\n",
        "        print(\"Aprovado com distinção\")\n",
        "    else:\n",
        "        print(\"Aluno:\", Aluno)\n",
        "        print(\"Media:\", round(media, 1))\n",
        "        print(\"Reprovado\")\n",
        "    Aluno = input(\"Digite o nome do aluno: \")\n",
        "    x = float(input(\"Digite uma nota 1: \"))\n",
        "    y = float(input(\"Digite uma nota 2: \"))\n",
        "    media = (x + y) / 2"
      ],
      "metadata": {
        "id": "XBqI7un3MZGo"
      },
      "execution_count": null,
      "outputs": []
    },
    {
      "cell_type": "markdown",
      "source": [
        "Exercicio 21: Faça um Programa para um caixa eletrônico. O programa deverá perguntar ao usuário a valor do saque e depois informar quantas notas de cada valor serão fornecidas. As notas disponíveis serão as de 1, 5, 10, 50 e 100 reais. O valor mínimo é de 10 reais e o máximo de 600 reais. O programa não deve se preocupar com a quantidade de notas existentes na máquina.\n",
        "\n",
        "    Exemplo 1: Para sacar a quantia de 256 reais, o programa fornece duas notas de 100, uma nota de 50, uma nota de 5 e uma nota de 1;\n",
        "    Exemplo 2: Para sacar a quantia de 399 reais, o programa fornece três notas de 100, uma nota de 50, quatro notas de 10, uma nota de 5 e quatro notas de 1.\n"
      ],
      "metadata": {
        "id": "Yg1mzUNtMb-p"
      }
    },
    {
      "cell_type": "code",
      "source": [
        "x = int(input(\"Digite um valor: \"))\n",
        "\n",
        "if x > 10 and x < 600:\n",
        "    n1 = x // 100 % 10\n",
        "    n2 = x // 10 % 10\n",
        "    n3 = x // 1 % 10\n",
        "    n4 = 50\n",
        "    n5 = 100\n",
        "\n",
        "    print(\"Unidade: {}\".format(n1))\n",
        "    print(\"Unidade: {}\".format(n2))\n",
        "    print(\"Unidade: {}\".format(n3))\n",
        "\n",
        "    if format(n1) > str(1) and format(n1) != 1:\n",
        "        q = \"Notas de cem\"\n",
        "    elif format(n1) <= str(1):\n",
        "        q = \"Nota de cem\"\n",
        "\n",
        "    if format(n2) > str(1) and format(n2) != 1:\n",
        "        q1 = \"Notas de dez\"\n",
        "    elif format(n2) <= str(1):\n",
        "\n",
        "        q1 = \"Nota de dez\"\n",
        "    if format(n3) > str(1) and format(n3) != 1:\n",
        "        q2 = \"Notas de um\"\n",
        "    elif format(n3) <= str(1):\n",
        "        q2 = \"Nota de um\"\n",
        "\n",
        "    print(n1,q.format(n1),n2, q1.format(n2),\"e\",n3, q2.format(n3))\n",
        "else:\n",
        "    print(\"Valor Inválido\")\n",
        "    print(\"Tente Novamente!\")\n",
        "\n",
        "print(\"Programa Encerrado!\")"
      ],
      "metadata": {
        "id": "dNMUInc9MnbW"
      },
      "execution_count": null,
      "outputs": []
    },
    {
      "cell_type": "markdown",
      "source": [
        "Exercicio 22: Faça um Programa que peça um número inteiro e determine se ele é par ou impar. Dica: utilize o operador módulo (resto da divisão)."
      ],
      "metadata": {
        "id": "XIbdHAfmMrHp"
      }
    },
    {
      "cell_type": "code",
      "source": [
        "x = int(input(\"Digite um numero: \"))\n",
        "\n",
        "\n",
        "while x != 0:\n",
        "    if x % 2 == 0:\n",
        "        print(x)\n",
        "        print(\"Par\")\n",
        "    else:\n",
        "        print(x)\n",
        "        print(\"Impar\")\n",
        "    x = float(input(\"Digite um numero: \"))\n",
        "print(\"Programa encerrado!\")"
      ],
      "metadata": {
        "id": "LxLNM6IxMvac"
      },
      "execution_count": null,
      "outputs": []
    },
    {
      "cell_type": "markdown",
      "source": [
        "Exercicio 23: Faça um Programa que peça um número e informe se o número é inteiro ou decimal.\n",
        "\n",
        "Dica: utilize uma função de arredondamento."
      ],
      "metadata": {
        "id": "LvT9bgawMykN"
      }
    },
    {
      "cell_type": "code",
      "source": [
        "x = float(input(\"Digite um valor: \"))\n",
        "\n",
        "if x % 1 == 0 and round(1):\n",
        "    print(x,\"é um numero inteiro\")\n",
        "else:\n",
        "    print(x,\"é um numero real\")\n"
      ],
      "metadata": {
        "id": "Nq7wH20fugjo"
      },
      "execution_count": null,
      "outputs": []
    },
    {
      "cell_type": "markdown",
      "source": [
        "Exercicio 24: Faça um Programa que leia 2 números e em seguida pergunte ao usuário qual operação ele deseja realizar.\n",
        "O resultado da operação deve ser acompanhado de uma frase que diga se o número é:\n",
        "\n",
        "par ou ímpar;\n",
        "\n",
        "positivo ou negativo;\n",
        "\n",
        "inteiro ou decimal."
      ],
      "metadata": {
        "id": "gVPMCaCCM20Y"
      }
    },
    {
      "cell_type": "code",
      "source": [
        "print(\"1 = par e impar\")\n",
        "print(\"2 = negativo e positivo\")\n",
        "print(\"3 = inteiro e decimal\")\n",
        "\n",
        "menu = int(input(\"escolha uma opção: \"))\n",
        "\n",
        "\n",
        "while menu != 0:\n",
        "\n",
        "    if menu == 1:\n",
        "        x = int(input(\"Digite um numero: \"))\n",
        "        y = int(input(\"Digite um numero: \"))\n",
        "        if x % 2 == 0:\n",
        "            print(\"par\")\n",
        "        else:\n",
        "            print(\"impar\")\n",
        "        if y % 2 == 0:\n",
        "            print(\"par\")\n",
        "        else:\n",
        "            print(\"impar\")\n",
        "    elif menu == 2:\n",
        "        x = int(input(\"Digite um numero: \"))\n",
        "        y = int(input(\"Digite um numero: \"))\n",
        "        if x == 0:\n",
        "            print(\"neutro\")\n",
        "        elif x > 0:\n",
        "            print(\"positivo\")\n",
        "        else:\n",
        "            print(\"negativo\")\n",
        "        if y == 0:\n",
        "            print(\"neutro\")\n",
        "        elif y > 0:\n",
        "            print(\"positivo\")\n",
        "        else:\n",
        "            print(\"negativo\")\n",
        "    elif menu == 3:\n",
        "        x = float(input(\"Digite um numero: \"))\n",
        "        y = float(input(\"Digite um numero: \"))\n",
        "        if x % 1 == 0 and round(1):\n",
        "            print(\"inteiro\")\n",
        "        else:\n",
        "            print(\"decimal\")\n",
        "        if y % 1 == 0 and round(1):\n",
        "            print(\"inteiro\")\n",
        "        else:\n",
        "            print(\"decimal\")\n",
        "    print(\"1 = par e impar\")\n",
        "    print(\"2 = negativo e positivo\")\n",
        "    print(\"3 = inteiro e decimal\")\n",
        "    menu = int(input(\"escolha uma opção: \"))\n",
        "\n",
        "print(\"Programa encerrado!\")"
      ],
      "metadata": {
        "colab": {
          "base_uri": "https://localhost:8080/"
        },
        "id": "deJAvlLQvPul",
        "outputId": "09a1a6db-4110-4e4f-c173-286c89aad3f1"
      },
      "execution_count": null,
      "outputs": [
        {
          "output_type": "stream",
          "name": "stdout",
          "text": [
            "1 = par e impar\n",
            "2 = negativo e positivo\n",
            "3 = inteiro e decimal\n",
            "escolha uma opção: 3\n",
            "Digite um numero: 2\n",
            "Digite um numero: 3\n",
            "inteiro\n",
            "inteiro\n",
            "1 = par e impar\n",
            "2 = negativo e positivo\n",
            "3 = inteiro e decimal\n",
            "escolha uma opção: 2\n",
            "Digite um numero: -59\n",
            "Digite um numero: 62\n",
            "negativo\n",
            "positivo\n",
            "1 = par e impar\n",
            "2 = negativo e positivo\n",
            "3 = inteiro e decimal\n",
            "escolha uma opção: 1\n",
            "Digite um numero: 964\n",
            "Digite um numero: 737\n",
            "par\n",
            "impar\n",
            "1 = par e impar\n",
            "2 = negativo e positivo\n",
            "3 = inteiro e decimal\n",
            "escolha uma opção: 0\n",
            "Programa encerrado!\n"
          ]
        }
      ]
    },
    {
      "cell_type": "markdown",
      "source": [
        "Exercicio 25: Faça um programa que faça 5 perguntas para uma pessoa sobre um crime. As perguntas são:\n",
        "\n",
        "    \"Telefonou para a vítima?\"\n",
        "    \"Esteve no local do crime?\"\n",
        "    \"Mora perto da vítima?\"\n",
        "    \"Devia para a vítima?\"\n",
        "    \"Já trabalhou com a vítima?\" O programa deve no final emitir uma classificação sobre a participação da pessoa no crime. \n",
        "Se a pessoa responder positivamente a 2 questões ela deve ser classificada como \"Suspeita\", entre 3 e 4 como \"Cúmplice\" e 5 como \"Assassino\". \n",
        "Caso contrário, ele será classificado como \"Inocente\". "
      ],
      "metadata": {
        "id": "djpn0JmaM64Q"
      }
    },
    {
      "cell_type": "code",
      "source": [
        "print(\"Podemos iniciar o interrogatório?\")\n",
        "x = input(\"Digite S para sim e N para não: \")\n",
        "\n",
        "while x != \"N\":\n",
        "    print(\"Responda as seguintes perguntas: \")\n",
        "\n",
        "    print(\"Telefonou para a vítima?\")\n",
        "    r1 = input(\"Sim ou Não?\")\n",
        "    if r1 == \"Sim\":\n",
        "        q1 = 1\n",
        "    else:\n",
        "        q1 = 0\n",
        "    print(\"Esteve no local do crime?\")\n",
        "    r2 = input(\"Sim ou Não?\")\n",
        "    if r2 == \"Sim\":\n",
        "        q2 = 1\n",
        "    else:\n",
        "        q2 = 0\n",
        "    print(\"Mora perto da vítima?\")\n",
        "    r3 = input(\"Sim ou Não?\")\n",
        "    if r3 == \"Sim\":\n",
        "        q3 = 1\n",
        "    else:\n",
        "        q3 = 0\n",
        "    print(\"Devia para a vítima?\")\n",
        "    r4 = input(\"Sim ou Não?\")\n",
        "    if r4 == \"Sim\":\n",
        "        q4 = 1\n",
        "    else:\n",
        "        q4 = 0\n",
        "    print(\"Já trabalhou com a vítima?\")\n",
        "    r5 = input(\"Sim ou Não?\")\n",
        "    if r5 == \"Sim\":\n",
        "        q5 = 1\n",
        "    else:\n",
        "        q5 = 0\n",
        "\n",
        "    resp = q1 +  q2 +  q3 + q4 + q5\n",
        "\n",
        "    if resp == 2:\n",
        "        print(\"Suspeita\")\n",
        "    elif resp == 3 or resp == 4:\n",
        "        print(\"Cúmplice\")\n",
        "    elif resp == 5:\n",
        "        print(\"Assassino\")\n",
        "    else:\n",
        "        print(\"Inocente\")\n",
        "    print(\"Deseja refazer o interrogatório? \")\n",
        "    x = input(\"Digite S para sim e N para não: \")\n",
        "print(\"Programa Encerrado!\")"
      ],
      "metadata": {
        "id": "CFQC_2c5NBQU",
        "colab": {
          "base_uri": "https://localhost:8080/"
        },
        "outputId": "de87bdfe-175b-4b3e-ebf2-e2939325d08f"
      },
      "execution_count": null,
      "outputs": [
        {
          "output_type": "stream",
          "name": "stdout",
          "text": [
            "Podemos iniciar o interrogatório?\n",
            "Digite S para sim e N para não: S\n",
            "Responda as seguintes perguntas: \n",
            "Telefonou para a vítima?\n",
            "Sim ou Não?sim\n",
            "Esteve no local do crime?\n",
            "Sim ou Não?sim\n",
            "Mora perto da vítima?\n",
            "Sim ou Não?sim\n",
            "Devia para a vítima?\n",
            "Sim ou Não?sim\n",
            "Já trabalhou com a vítima?\n",
            "Sim ou Não?sim\n",
            "Inocente\n",
            "Deseja refazer o interrogatório? \n",
            "Digite S para sim e N para não: N\n",
            "Programa Encerrado!\n"
          ]
        }
      ]
    },
    {
      "cell_type": "markdown",
      "source": [
        "Exercicio 26: Um posto está vendendo combustíveis com a seguinte tabela de descontos:\n",
        "Álcool:\n",
        "até 20 litros, desconto de 3% por litro\n",
        "acima de 20 litros, desconto de 5% por litro\n",
        "Gasolina:\n",
        "até 20 litros, desconto de 4% por litro\n",
        "acima de 20 litros, desconto de 6% por litro\n",
        "Escreva um algoritmo que leia o número de litros vendidos,\n",
        "o tipo de combustível (codificado da seguinte forma: A-álcool, G-gasolina),\n",
        "calcule e imprima o valor a ser pago pelo cliente sabendo-se que o preço do litro da gasolina é R2,50 o\n",
        "preço do litro do álcool é R$ 1,90."
      ],
      "metadata": {
        "id": "A_rbfwRvNEU2"
      }
    },
    {
      "cell_type": "code",
      "source": [
        "A = 1.9\n",
        "G = 2.5\n",
        "\n",
        "print(\"O que deseja, Alcoól ou Gasolina? \")\n",
        "x = (input(\"Digite A para Alcoól ou G para Gasolina? \"))\n",
        "l0 = 0\n",
        "l1 = 0\n",
        "while x != \"s\":\n",
        "    if x == \"A\":\n",
        "        l0 = int(input(\"Quantos litros deseja? \"))\n",
        "        if l0 <= 20:\n",
        "            res = l0 - ((l0 / 100) * 3)\n",
        "            vl0 = res * A\n",
        "            print(\"Combústivel vendido: Alcoól\")\n",
        "            print(\"Quantidade de litros vendidos:\",l0,\"L\")\n",
        "            print(\"Valor a ser pago é R$\",vl0)\n",
        "        elif l0 > 20:\n",
        "            res = l0 - ((l0 / 100) * 5)\n",
        "            vl0 = res * A\n",
        "            print(\"Combústivel vendido: Alcoól\")\n",
        "            print(\"Quantidade de litros vendidos:\",l0,\"L\")\n",
        "            print(\"Valor a ser pago R$\", vl0)\n",
        "    elif x == \"G\":\n",
        "         l1 = int(input(\"Quantos litros deseja?:\"))\n",
        "         if l1 <= 20:\n",
        "             res = l1 - ((l1 / 100) * 4)\n",
        "             vl1 = res * G\n",
        "             print(\"Combústivel vendido: Alcoól\")\n",
        "             print(\"Quantidade de litros vendidos:\",l1,\"L\")\n",
        "             print(\"Valor a ser pago R$\",vl1)\n",
        "         elif l1 > 20:\n",
        "             res = l1 - ((l1 / 100) * 6)\n",
        "             vl1 = res * G\n",
        "             print(\"Combústivel vendido: Alcoól\")\n",
        "             print(\"Quantidade de litros vendidos:\",l1,\"L\")\n",
        "             print(\"Valor a ser pago R$\",vl1)\n",
        "    x = (input(\"Digite A para Alcool ou G para Gasolina? \"))"
      ],
      "metadata": {
        "colab": {
          "base_uri": "https://localhost:8080/"
        },
        "id": "KXf1_2_Qv0yF",
        "outputId": "b7f60540-3644-4a9b-d8e8-91f80d464eba"
      },
      "execution_count": null,
      "outputs": [
        {
          "name": "stdout",
          "output_type": "stream",
          "text": [
            "O que deseja, Alcoól ou Gasolina? \n",
            "Digite A para Alcoól ou G para Gasolina? A\n",
            "Quantos litros deseja? 12\n",
            "Combústivel vendido: Alcoól\n",
            "Quantidade de litros vendidos: 12 L\n",
            "Valor a ser pago é R$ 22.116\n",
            "Digite A para Alcool ou G para Gasolina? G\n",
            "Quantos litros deseja?:10\n",
            "Combústivel vendido: Alcoól\n",
            "Quantidade de litros vendidos: 10 L\n",
            "Valor a ser pago R$ 24.0\n",
            "Digite A para Alcool ou G para Gasolina? 0\n",
            "Digite A para Alcool ou G para Gasolina? s\n"
          ]
        }
      ]
    },
    {
      "cell_type": "markdown",
      "source": [
        "Exercicio 27: Uma fruteira está vendendo frutas com a seguinte tabela de preços: \n",
        "Uma fruteira está vendendo frutas com a seguinte tabela de preços:\n",
        "\n",
        "                          Até 5 Kg           Acima de 5 Kg\n",
        "    Morango         R$ 2,50 por Kg          R$ 2,20 por Kg\n",
        "    Maçã            R$ 1,80 por Kg          R$ 1,50 por Kg\n",
        "\n",
        "    Se o cliente comprar mais de 8 Kg em frutas ou o valor total da compra ultrapassar R$ 25,00, \n",
        "receberá ainda um desconto de 10% sobre este total. Escreva um algoritmo para ler a quantidade (em Kg) de morangos e a \n",
        "quantidade (em Kg) de maças adquiridas e escreva o valor a ser pago pelo cliente. "
      ],
      "metadata": {
        "id": "88iNh90GNIdA"
      }
    },
    {
      "cell_type": "code",
      "source": [
        "mor = 2.5\n",
        "ma = 1.8\n",
        "mo1 = 2.2\n",
        "ma1 = 1.5\n",
        "\n",
        "x = float(input(\"Digite quantos kgs de morango deseja: \"))\n",
        "y = float(input(\"Digite quantos kgs de maça deseja: \"))\n",
        "\n",
        "while x !=0:\n",
        "    if x <= 5.0:\n",
        "        q = mor * x\n",
        "    else:\n",
        "        q = mo1 * x\n",
        "    if y <= 5.0:\n",
        "        q1 = ma * y\n",
        "    else:\n",
        "        q1 = ma1 * y\n",
        "\n",
        "    res = q + q1\n",
        "    re1 = x + y\n",
        "\n",
        "    if res > 25 or re1 >= 8:\n",
        "        res2 = res - ((res /100) * 10)\n",
        "        print(\"Morango kgs:\", x)\n",
        "        print(\"Maça kgs:\",y)\n",
        "        print(\"Sub Total do morando R$:\",q)\n",
        "        print(\"Sub Total da maçã R$:\", q1)\n",
        "        print(\"Total de kgs:\", re1)\n",
        "        print(\"Valor total com 10 % de desconto R$:\", res2)\n",
        "    else:\n",
        "        print(\"Morango kgs:\", x)\n",
        "        print(\"Maça kgs:\", y)\n",
        "        print(\"Sub Total do morando R$:\", q)\n",
        "        print(\"Sub Total da maçã R$:\", q1)\n",
        "        print(\"Total de kgs:\", re1)\n",
        "        print(\"Valor total Sem desconto R$:\",res)\n",
        "\n",
        "    x = float(input(\"Digite quantos kgs de morango deseja: \"))\n",
        "    y = float(input(\"Digite quantos kgs de maça deseja: \"))"
      ],
      "metadata": {
        "id": "1AylC8AaNNCp"
      },
      "execution_count": null,
      "outputs": []
    },
    {
      "cell_type": "markdown",
      "source": [
        "Exercicio 28: O Hipermercado Tabajara está com uma promoção de carnes que é imperdível. Confira:\n",
        "\n",
        "                          Até 5 Kg           Acima de 5 Kg\n",
        "    File Duplo      R$ 4,90 por Kg          R$ 5,80 por Kg\n",
        "    Alcatra         R$ 5,90 por Kg          R$ 6,80 por Kg\n",
        "    Picanha         R$ 6,90 por Kg          R$ 7,80 por Kg\n",
        "\n",
        "    Para atender a todos os clientes, cada cliente poderá levar apenas um dos tipos de carne da promoção, \n",
        "porém não há limites para a quantidade de carne por cliente. Se compra for feita no cartão Tabajara o cliente receberá ainda um desconto \n",
        "de 5% sobre o total da compra. Escreva um programa que peça o tipo e a quantidade de carne comprada pelo usuário e gere um cupom fiscal, \n",
        "contendo as informações da compra: tipo e quantidade de carne, preço total, tipo de pagamento, valor do desconto e valor a pagar. "
      ],
      "metadata": {
        "id": "qIcfMKIrNP37"
      }
    },
    {
      "cell_type": "code",
      "source": [
        "fil=4.9\n",
        "fil1=5.8\n",
        "alc=5.9\n",
        "alc1=6.8\n",
        "pic=6.8\n",
        "pic1=7.9\n",
        "\n",
        "print(\"\\t\\nMenu de escolha\")\n",
        "print(\"1-File Duplo\")\n",
        "print(\"2-Alcatra\")\n",
        "print(\"3-Picanha\")\n",
        "\n",
        "x=int(input(\"Digite de 1 a 3 conforme o menu ou 0 para sair: \"))\n",
        "while x != 0:\n",
        "  if x == 1:\n",
        "    print(\"Filé Duplo\")\n",
        "    x1 = float(input(\"Quanto kgs deseja?\"))\n",
        "    if x1 < 5:\n",
        "        res=x1*fil\n",
        "    else:\n",
        "        res=x1*fil1\n",
        "    pg = int(input(\"Como pretende pagar: 1 - cartão ou 2 - Dinheiro: \"))\n",
        "    if pg == 1:\n",
        "        print(\"Cartão\")\n",
        "        des = res-((res/100)*5)\n",
        "        print(\"Valor total R$:\",des)\n",
        "    elif pg == 2:\n",
        "        print(\"Dinheiro\")\n",
        "        print(\"Valor total R$:\",res)\n",
        "    else:\n",
        "        print(\"valor inválido\")\n",
        "  if x == 2:\n",
        "    print(\"Alcatra\")\n",
        "    x1 = float(input(\"Quanto kgs deseja?\"))\n",
        "    if x1 < 5:\n",
        "        res=x1*alc\n",
        "    else:\n",
        "        res=x1*alc1\n",
        "    pg = int(input(\"Como pretende pagar: 1 - cartão ou 2 - Dinheiro: \"))\n",
        "    if pg == 1:\n",
        "        print(\"Cartão\")\n",
        "        des = res-((res/100)*5)\n",
        "        print(\"Valor total R$:\",des)\n",
        "    elif pg == 2:\n",
        "        print(\"Dinheiro\")\n",
        "        print(\"Valor total R$:\",res)\n",
        "    else:\n",
        "        print(\"valor inválido\")\n",
        "  if x == 3:\n",
        "    print(\"Picanha\")\n",
        "    x1 = float(input(\"Quanto kgs deseja?\"))\n",
        "    if x1 < 5:\n",
        "        res=x1*pic\n",
        "    else:\n",
        "        res=x1*pic1\n",
        "    pg = int(input(\"Como pretende pagar: 1 - cartão ou 2 - Dinheiro: \"))\n",
        "    if pg == 1:\n",
        "        print(\"Cartão\")\n",
        "        des = res-((res/100)*5)\n",
        "        print(\"Valor total R$:\",des)\n",
        "    elif pg == 2:\n",
        "        print(\"Dinheiro\")\n",
        "        print(\"Valor total R$:\",res)\n",
        "    else:\n",
        "        print(\"valor inválido\")\n",
        "\n",
        "  print(\"\\t\\nMenu de escolha\")\n",
        "  print(\"1-File Duplo\")\n",
        "  print(\"2-Alcatra\")\n",
        "  print(\"3-Picanha\")\n",
        "\n",
        "  x = int(input(\"Digite de 1 a 3 conforme o menu ou 0 para sair: \"))"
      ],
      "metadata": {
        "id": "UIXWbeV4NTg4"
      },
      "execution_count": null,
      "outputs": []
    }
  ]
}
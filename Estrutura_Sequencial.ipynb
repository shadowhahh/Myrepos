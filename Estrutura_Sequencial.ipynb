{
  "nbformat": 4,
  "nbformat_minor": 0,
  "metadata": {
    "colab": {
      "name": "Estrutura Sequencial ",
      "provenance": [],
      "collapsed_sections": [],
      "authorship_tag": "ABX9TyMmDY6i5l6Q/Uk1O82vimCI",
      "include_colab_link": true
    },
    "kernelspec": {
      "name": "python3",
      "display_name": "Python 3"
    },
    "language_info": {
      "name": "python"
    }
  },
  "cells": [
    {
      "cell_type": "markdown",
      "metadata": {
        "id": "view-in-github",
        "colab_type": "text"
      },
      "source": [
        "<a href=\"https://colab.research.google.com/github/shadowhahh/Myrepos/blob/main/Estrutura_Sequencial.ipynb\" target=\"_parent\"><img src=\"https://colab.research.google.com/assets/colab-badge.svg\" alt=\"Open In Colab\"/></a>"
      ]
    },
    {
      "cell_type": "markdown",
      "source": [
        "Exercicio 0"
      ],
      "metadata": {
        "id": "7_h4CFPUxKE9"
      }
    },
    {
      "cell_type": "code",
      "source": [
        "Base = int(input(\"Digite o valor da base: \"))\n",
        "Altura = int(input(\"Digite o valor da Altura: \"))\n",
        "\n",
        "\n",
        "Area = Base * Altura\n",
        "AreaQ = Area ** 3\n",
        "\n",
        "print(\"Valor da area é:\",Area)\n",
        "print(\"Valor da area quadrada é\",AreaQ)"
      ],
      "metadata": {
        "id": "W5FGc0tCxMpT"
      },
      "execution_count": null,
      "outputs": []
    },
    {
      "cell_type": "markdown",
      "source": [
        "Exercicio 1: \n",
        "Faça um Programa que mostre a mensagem \"Alo mundo\" na tela.\n",
        "print(\"Alo mundo\")"
      ],
      "metadata": {
        "id": "IklH2YyGHtc6"
      }
    },
    {
      "cell_type": "code",
      "execution_count": null,
      "metadata": {
        "id": "QfS4F6bKHT-j"
      },
      "outputs": [],
      "source": [
        "print(\"Hello World!\")"
      ]
    },
    {
      "cell_type": "markdown",
      "source": [
        "Exercicio 2: Faça um Programa que peça um número e então mostre a mensagem O número informado foi [número]."
      ],
      "metadata": {
        "id": "3XkSrk_MH1VS"
      }
    },
    {
      "cell_type": "code",
      "source": [
        "x = int(input(\"Digite um numero: \"))\n",
        "print(\"O numero informado é: \", x)"
      ],
      "metadata": {
        "id": "KosUt0npICgJ"
      },
      "execution_count": null,
      "outputs": []
    },
    {
      "cell_type": "markdown",
      "source": [
        ""
      ],
      "metadata": {
        "id": "hfwLOnHTxQRN"
      }
    },
    {
      "cell_type": "markdown",
      "source": [
        "Exercicio 3: Faça um Programa que peça dois números e imprima a soma.  "
      ],
      "metadata": {
        "id": "th723fmkIane"
      }
    },
    {
      "cell_type": "code",
      "source": [
        "x = int(input(\"Digite um numero 1: \"))\n",
        "y = int(input(\"Digite um numero 2: \"))\n",
        "\n",
        "print(\"A soma dos dois numeros é: \", x + y)"
      ],
      "metadata": {
        "id": "9_6sgP67Im58"
      },
      "execution_count": null,
      "outputs": []
    },
    {
      "cell_type": "markdown",
      "source": [
        "Exercicio 4: Faça um Programa que peça as 4 notas bimestrais e mostre a média. "
      ],
      "metadata": {
        "id": "Qd-kVYQRJHo-"
      }
    },
    {
      "cell_type": "code",
      "source": [
        "N1 = float(input(\"\\nForneça a nota 1: \"))\n",
        "N2 = float(input(\"Forneça a nota 2: \"))\n",
        "N3 = float(input(\"Forneça a nota 3: \"))\n",
        "N4 = float(input(\"Forneça a nota 4: \"))\n",
        "media = (N1+N2+N3+N4) / 4\n",
        "\n",
        "while (media > 7 or media < 8):\n",
        "    if media >= 7:\n",
        "        print(\"\\nA média do aluno foi:\", media)\n",
        "        print(\"Aluno aprovado\\n\")\n",
        "       \n",
        "    else:\n",
        "        print(\"A média do aluno foi:\",media)\n",
        "        print(\"Aluno reprovado \\n\")\n",
        "    print(\"Deseja continuar?\\n\")\n",
        "    x = input(\"Digite S = SIM ou N = NÃO: \")\n",
        "    if x == \"S\":\n",
        "\n",
        "      N1 = float(input(\"\\nForneça a nota 1: \"))\n",
        "      N2 = float(input(\"Forneça a nota 2: \"))\n",
        "      N3 = float(input(\"Forneça a nota 3: \"))\n",
        "      N4 = float(input(\"Forneça a nota 4: \"))\n",
        "      media = (N1+N2+N3+N4) / 4\n",
        "    else:\n",
        "      print(\"Programa encerrado!\")\n",
        "      break\n"
      ],
      "metadata": {
        "id": "EzhmUcWGJOP7"
      },
      "execution_count": null,
      "outputs": []
    },
    {
      "cell_type": "markdown",
      "source": [
        "Exercicio 5: Faça um Programa que converta metros para centímetros"
      ],
      "metadata": {
        "id": "ejhsjUnQMRI3"
      }
    },
    {
      "cell_type": "code",
      "source": [
        "x = int(input(\"Forneca um valor: \"))\n",
        "cent = x * 100\n",
        "ml = x * 100 * 100\n",
        "\n",
        "print(x,\"metros\")\n",
        "print(cent,\"centimetros\")\n",
        "print(ml,\"milimetros\")"
      ],
      "metadata": {
        "id": "kO6GtLMxNNYZ"
      },
      "execution_count": null,
      "outputs": []
    },
    {
      "cell_type": "markdown",
      "source": [
        "Exercicio 6: Faça um Programa que peça o raio de um círculo, calcule e mostre sua área"
      ],
      "metadata": {
        "id": "SgfY71hf2Ysv"
      }
    },
    {
      "cell_type": "code",
      "source": [
        "x = float(input(\"Digite o valor do raio:\"))\n",
        "pi = 3.14\n",
        "\n",
        "raio = pi * (x**2)\n",
        "print(raio)"
      ],
      "metadata": {
        "id": "IPegTEnV25s6"
      },
      "execution_count": null,
      "outputs": []
    },
    {
      "cell_type": "markdown",
      "source": [
        "Execicio 7: Faça um Programa que calcule a área de um quadrado, em seguida mostre o dobro desta área para o usuário. "
      ],
      "metadata": {
        "id": "Dd_1FyI93f4C"
      }
    },
    {
      "cell_type": "code",
      "source": [
        "Base = int(input(\"Digite o valor da base: \"))\n",
        "Altura = int(input(\"Digite o valor da Altura: \"))\n",
        "\n",
        "\n",
        "Area = Base * Altura \n",
        "AreaQ = Area * 2\n",
        "\n",
        "print(\"Valor da area é:\",Area)\n",
        "print(\"Valor do dobro da area é\",AreaQ)\n"
      ],
      "metadata": {
        "id": "Oc5RIJ0A3jy4"
      },
      "execution_count": null,
      "outputs": []
    },
    {
      "cell_type": "markdown",
      "source": [
        "Exercicio 8: Faça um Programa que pergunte quanto você ganha por hora e o número de horas trabalhadas no mês. Calcule e mostre o total do seu salário no referido mês. "
      ],
      "metadata": {
        "id": "AEoj8C_n3w6v"
      }
    },
    {
      "cell_type": "code",
      "source": [
        "x = float(input(\"Digite o valor da hora:\"))\n",
        "y = int(input(\"Digite a quantidade de horas trabalhadas no mês:\"))\n",
        "\n",
        "mes = x * y\n",
        "\n",
        "print(\"Salario do mês com base nas horas trabalhadas foi de R$:\", mes)"
      ],
      "metadata": {
        "id": "ZQpXxMqn33aw"
      },
      "execution_count": null,
      "outputs": []
    },
    {
      "cell_type": "markdown",
      "source": [
        "Exercicio 9: Faça um Programa que peça a temperatura em graus Fahrenheit, transforme e mostre a temperatura em graus Celsius."
      ],
      "metadata": {
        "id": "VCIC9GB-4KlN"
      }
    },
    {
      "cell_type": "code",
      "source": [
        "x = float(input(\"Digite a temperatura em graus Fahrenheit: \"))\n",
        "C = (((x - 32) * 5) // 9)\n",
        "\n",
        "print(C,\"graus Celsius\")"
      ],
      "metadata": {
        "id": "qu5hYtlD4Psh"
      },
      "execution_count": null,
      "outputs": []
    },
    {
      "cell_type": "markdown",
      "source": [
        "Exercicio 10: Faça um Programa que peça a temperatura em graus Celsius, transforme e mostre em graus Fahrenheit. "
      ],
      "metadata": {
        "id": "G_ppTdHx4uQx"
      }
    },
    {
      "cell_type": "code",
      "source": [
        "x = float(input(\"Digite a temperatura em graus Celsius: \"))\n",
        "F = (((x * 9) / 5) + 32)\n",
        "print(F,\"graus Fahrenheit\")"
      ],
      "metadata": {
        "id": "gkWk1RVe4672"
      },
      "execution_count": null,
      "outputs": []
    },
    {
      "cell_type": "markdown",
      "source": [
        "Execicio 11:Faça um Programa que peça 2 números inteiros e um número real. Calcule e mostre: \n",
        "\n",
        "A-o produto do dobro do primeiro com metade do segundo.\n",
        "\n",
        "B-a soma do triplo do primeiro com o terceiro.\n",
        "\n",
        "C-o terceiro elevado ao cubo. "
      ],
      "metadata": {
        "id": "7uXp33CNUHdl"
      }
    },
    {
      "cell_type": "code",
      "source": [
        "x = int(input(\"Digite um numero inteiro 1: \"))\n",
        "y = int(input(\"Digite um numero inteiro 2: \"))\n",
        "z = float(input(\"Digite um numero real: \"))\n",
        "\n",
        "m = ((x * 2) * (y / 2))\n",
        "s = (x * 3) + z\n",
        "c = z ** 3\n",
        "\n",
        "print(\"Produto:\",m)\n",
        "print(\"Soma:\",s)\n",
        "print(\"Potencia:\",c)"
      ],
      "metadata": {
        "id": "VfHiNm42UUCT"
      },
      "execution_count": null,
      "outputs": []
    },
    {
      "cell_type": "markdown",
      "source": [
        "Exercicio 12: Tendo como dados de entrada a altura de uma pessoa, construa um algoritmo que calcule seu peso ideal, usando a seguinte fórmula: (72.7*altura) - 58 "
      ],
      "metadata": {
        "id": "GJ7sAk2NU2z-"
      }
    },
    {
      "cell_type": "code",
      "source": [
        "x = float(input(\"Digite a altura: \"))\n",
        "\n",
        "pl = (72.7 * x) - 58\n",
        "\n",
        "print(\"Peso ideial é:\",pl)\n",
        "\n"
      ],
      "metadata": {
        "id": "7jmdHmt-U5PW"
      },
      "execution_count": null,
      "outputs": []
    },
    {
      "cell_type": "markdown",
      "source": [
        "Exercicio 13: Tendo como dado de entrada a altura (h) de uma pessoa, construa um algoritmo que calcule seu peso ideal, utilizando as seguintes fórmulas:\n",
        "\n",
        "Para homens: (72.7*h) - 58\n",
        "\n",
        "Para mulheres: (62.1*h) - 44.7 \n"
      ],
      "metadata": {
        "id": "YwCSGTZ7VMMp"
      }
    },
    {
      "cell_type": "code",
      "source": [
        "escolha = int(input(\"Escolha uma das opções entre 1 e 2 ou digite 0 para Sair: \"))\n",
        "while escolha != 0:\n",
        "    if escolha == 1:\n",
        "        x = float(input(\"Digite a altura do homem: \"))\n",
        "        plh = (72.7 * x) - 58\n",
        "        print(\"Peso ideial do homem é:\",plh)\n",
        "    elif escolha == 2:\n",
        "        x = float(input(\"Digite a altura da mulher: \"))\n",
        "        plh = (62.1 * x) - 44.7\n",
        "        print(\"Peso ideial da mulher é:\",plh)\n",
        "    else:\n",
        "        print(\"Valor inválido\")\n",
        "    escolha = int(input(\"Escolha uma das opções entre 1 e 2: \"))\n",
        "print(\"Encerrando Programa!\")"
      ],
      "metadata": {
        "id": "4h7j77C2Vg5D"
      },
      "execution_count": null,
      "outputs": []
    },
    {
      "cell_type": "markdown",
      "source": [
        "Exercicio 14: João Papo-de-Pescador, homem de bem, comprou um microcomputador para controlar o rendimento diário de seu trabalho. Toda vez que ele traz um peso de peixes maior que o estabelecido pelo regulamento de pesca do estado de São Paulo (50 quilos) deve pagar uma multa de R$ 4,00 por quilo excedente. João precisa que você faça um programa que leia a variável peso (peso de peixes) e calcule o excesso. \n",
        "Gravar na variável excesso a quantidade de quilos além do limite e na variável multa o valor da multa que João deverá pagar. Imprima os dados do programa com as mensagens adequadas."
      ],
      "metadata": {
        "id": "iLrrGicrWBo0"
      }
    },
    {
      "cell_type": "code",
      "source": [
        "quilo = 50\n",
        "multa = 4\n",
        "peso = 0\n",
        "\n",
        "x = float(input(\"Digite quantos quilos de peixe foram trazidos: \"))\n",
        "\n",
        "while x != 0:\n",
        "  excesso = x - quilo\n",
        "  if excesso > 0:\n",
        "      n = multa * excesso\n",
        "      print(\"Houve excesso. O excesso foi de:\",excesso,\"Kg\")\n",
        "      print(\"Será aplicada uma Multa pelo excesso!\")\n",
        "      print(\"O valor da Multa pelo excesso é de R$:\",n)\n",
        "      \n",
        "  else:\n",
        "      print(\"Não houve excesso!\")\n",
        "  x = float(input(\"Digite quantos quilos de peixe foram trazidos: \"))\n",
        "print(\"Programa encerrado!\")\n"
      ],
      "metadata": {
        "id": "qV90CdzlWL2J"
      },
      "execution_count": null,
      "outputs": []
    },
    {
      "cell_type": "markdown",
      "source": [
        "Exercicio 15: Faça um Programa que pergunte quanto você ganha por hora e o número de horas trabalhadas no mês. \n",
        "Calcule e mostre o total do seu salário no referido mês, sabendo-se que são descontados 11% para o Imposto de Renda, 8% para o INSS e 5% para o sindicato, faça um programa que nos dê:\n",
        "\n",
        "    salário bruto.\n",
        "    quanto pagou ao INSS.\n",
        "    quanto pagou ao sindicato.\n",
        "    o salário líquido.\n",
        "    calcule os descontos e o salário líquido, conforme a tabela abaixo:\n",
        "\n",
        "    + Salário Bruto : R$\n",
        "    - IR (11%) : R$\n",
        "    - INSS (8%) : R$\n",
        "    - Sindicato ( 5%) : R$\n",
        "    = Salário Liquido : R$\n",
        "\n",
        "    Obs.: Salário Bruto - Descontos = Salário Líquido.  \n",
        "\n"
      ],
      "metadata": {
        "id": "s6PpFfS1Er5D"
      }
    },
    {
      "cell_type": "code",
      "source": [
        "x = float(input(\"Digite o valor da hora trabalhada: \"))\n",
        "y = int(input(\"Digite a quantidade de horas trabalhadas: \"))\n",
        "\n",
        "mes = x * y\n",
        "ir = mes / (100 / 11)\n",
        "inss = mes / (100 / 8)\n",
        "sd = mes / (100 / 5)\n",
        "sl = mes - (ir + inss + sd)\n",
        "\n",
        "print(\"Salario bruto R$:\", mes)\n",
        "print(\"Imposto de renda sobre o salario R$:\", ir)\n",
        "print(\"Desconto de Inss R$:\", inss)\n",
        "print(\"Contribuição sindical R$:\", sd)\n",
        "print(\"Saldo liquido a receber:\",sl)"
      ],
      "metadata": {
        "id": "0MwHSwKPEvg1"
      },
      "execution_count": null,
      "outputs": []
    },
    {
      "cell_type": "markdown",
      "source": [
        "Exercicio 16: Faça um programa para uma loja de tintas. O programa deverá pedir o tamanho em metros quadrados da área a ser pintada. \n",
        "Considere que a cobertura da tinta é de 1 litro para cada 3 metros quadrados e que a tinta é vendida em latas de 18 litros, que custam R$ 80,00. \n",
        "Informe ao usuário a quantidades de latas de tinta a serem compradas e o preço total. "
      ],
      "metadata": {
        "id": "XvFCof-MGw0r"
      }
    },
    {
      "cell_type": "code",
      "source": [
        "x = int(input(\"Digite o valor em metros quadrados: \"))\n",
        "\n",
        "l = 54\n",
        "v = 80\n",
        "\n",
        "while x != 0:\n",
        "  if x > l:\n",
        "      print(\"Metros quadrados informados:\", x,\"m2\")\n",
        "      q = x // l\n",
        "      print(\"Os metros quadrados informados necessitaram de pelo menos:\", q + 1, \"latas\")\n",
        "      q = int(input(\"Quantas latas deseja levar? : \"))\n",
        "      print(\"Quantidades de latas:\", q)\n",
        "      print(\"Valor por lata R$:\", float(v))\n",
        "      print(\"Valor total R$:\", float(v) * q)\n",
        "  else:\n",
        "      print(\"Metros quadrados informados:\", x)\n",
        "      print(\"Os metros quadrados informados necessitaram de apenas uma lata\")\n",
        "      print(\"Quantidades de latas:\",1)\n",
        "      print(\"Valor por lata R$:\",float(v))\n",
        "      print(\"Valor total R$:\",float(v))\n",
        "  x = int(input(\"Digite o valor em metros quadrados: \"))\n",
        "print(\"Programa encerrado!\")"
      ],
      "metadata": {
        "id": "2stx9JleG0dM"
      },
      "execution_count": null,
      "outputs": []
    },
    {
      "cell_type": "markdown",
      "source": [
        "Exercicio 17: Faça um Programa para uma loja de tintas. O programa deverá pedir o tamanho em metros quadrados da área a ser pintada. \n",
        "Considere que a cobertura da tinta é de 1 litro para cada 6 metros quadrados e que a tinta é vendida em latas de 18 litros, que custam \n",
        "R$ 80,00 ou em galões de 3,6 litros, que custam RS25,00.\n",
        "\n",
        "Informe ao usuário as quantidades de tinta a serem compradas e os respectivos preços em 3 situações:\n",
        "comprar apenas latas de 18 litros;\n",
        "comprar apenas galões de 3,6 litros; "
      ],
      "metadata": {
        "id": "ENbdRWifHqJR"
      }
    },
    {
      "cell_type": "code",
      "source": [
        "g = 108  #total do galao em m2\n",
        "l = 21.6 #total da lata em m2\n",
        "vg = 80  #valor unitario galao\n",
        "vl = 25  #valor unitario lata\n",
        "\n",
        "x = int(input(\"Digite o valor em metros quadrados: \"))\n",
        "print(\"Metro quadrados informados:\", x,\"m2\")\n",
        "galao =round (x / g + ((x / g) / 10), 4)\n",
        "lata = round(x / l + ((x / l) / 10), 4)\n",
        "print(\"Quantidades necessarias se for em latas :\", lata)\n",
        "print(\"Quantidades necessarias se for em galao :\", galao)\n",
        "\n",
        "while x != 0:\n",
        "    if x > l:\n",
        "        print(\"Como deseja levar as tintas?\")\n",
        "        print(\"1 = Galao\")\n",
        "        print(\"2 = Lata\")\n",
        "        print(\"3 = Escolha entre os dois\")\n",
        "        x1 = int(input(\"Escolha uma das opções?\"))\n",
        "        if x1 == 1:\n",
        "            y = int(input(\"Deseja levar quantos galões?\"))\n",
        "            print(\"Valor unitario do galão R$:\", vg)\n",
        "            print(\"Valor total: R$\", round(vg * y,-1))\n",
        "        elif x1 == 2:\n",
        "            z = int(input(\"Deseja levar quantas latas?\"))\n",
        "            print(\"Valor unitario lata R$:\", vl)\n",
        "            print(\"Valor total: R$\", round(float(vl) * z, 2))\n",
        "        elif x1 == 3:\n",
        "            z = int(input(\"Deseja levar quantos galões?\"))\n",
        "            z1 = int(input(\"Deseja levar quantas latas?\"))\n",
        "            print(\"Valor unitario lata R$:\", vl)\n",
        "            print(\"Valor unitario galao R$:\", vg)\n",
        "            print(\"Valor Subtotal galoes: R$\", round(vg * z))\n",
        "            print(\"Valor Subtotal latas: R$\", round(vl * z1))\n",
        "            print(\"Valor total: R$\", round(vl * z1) + (vg * z))\n",
        "    else:\n",
        "        print(\"Metro quadrados informados:\", x)\n",
        "        print(\"Necessário apenas 1 Lata para os metros quadrados informados\")\n",
        "        print(\"Valor unitario R$:\", vl)\n",
        "        print(\"Valor total: R$\", vl)\n",
        "    x = int(input(\"Deseja continuar: \"))\n",
        "    if x == 0:\n",
        "        print(\"Encerrando programa\")\n",
        "        break\n",
        "    else:\n",
        "        x = int(input(\"Digite o valor em metros quadrados: \"))\n",
        "        print(\"Metro quadrados informados:\", x,\"m2\")\n",
        "        galao = round(x / g + ((x / g) / 10), 4)\n",
        "        lata = round(x / l + ((x / l) / 10), 4)\n",
        "        print(\"Quantidades necessarias se for em latas :\", lata)\n",
        "        print(\"Quantidades necessarias se for em galao :\", galao)"
      ],
      "metadata": {
        "id": "0Dr6K_u0IPdA"
      },
      "execution_count": null,
      "outputs": []
    },
    {
      "cell_type": "markdown",
      "source": [
        "Exercicio 18: Faça um programa que peça o tamanho de um arquivo para download (em MB) e a velocidade de um link de Internet (em Mbps), \n",
        "calcule e informe o tempo aproximado de download do arquivo usando este link (em minutos)"
      ],
      "metadata": {
        "id": "37SWnGFRIsky"
      }
    },
    {
      "cell_type": "code",
      "source": [
        "x = float(input(\"Digite quanto MBytes pretende baixar:\"))\n",
        "y = float(input(\"Digite a velocidade do link de Banda larga:\"))\n",
        "\n",
        "mbitbys = (y / 8)\n",
        "mbitbym = (y / 8) * 60\n",
        "mbitbyh = ((y / 8) * 60) * 60\n",
        "\n",
        "#temp0 = round(())\n",
        "temp = round((x / mbitbyh) * 60, 2)\n",
        "temp1 = round((x / mbitbyh) * 60, 2) * 60\n",
        "print(\"Quantidade de Megabytes informada:\",round(x),\"Mbytes\")\n",
        "print(\"Velocidade de Banda Larga informada:\",round(y),\"Mbps\")\n",
        "print(mbitbys,\"MB por segundo\")\n",
        "print(mbitbym,\"MB por minuto\")\n",
        "print(mbitbyh,\"MB por Hora\")\n",
        "if temp > 1:\n",
        "    print(\"Tempo necessario para o download:\",(temp) ,\"Minutos aproximdamente\")\n",
        "else:\n",
        "    print(\"Tempo necessario para o download:\", (temp1), \"Segundos aproximdamente\")"
      ],
      "metadata": {
        "id": "I4OIDgXaIvVm",
        "colab": {
          "base_uri": "https://localhost:8080/"
        },
        "outputId": "76417cac-4ef9-4987-8507-b5b4cb99b537"
      },
      "execution_count": null,
      "outputs": [
        {
          "output_type": "stream",
          "name": "stdout",
          "text": [
            "Digite quanto MBytes pretende baixar:45686\n",
            "Digite a velocidade do link de Banda larga:50\n",
            "Quantidade de Megabytes informada: 45686 Mbytes\n",
            "Velocidade de Banda Larga informada: 50 Mbps\n",
            "6.25 MB por segundo\n",
            "375.0 MB por minuto\n",
            "22500.0 MB por Hora\n",
            "Tempo necessario para o download: 121.83 Minutos aproximdamente\n"
          ]
        }
      ]
    }
  ]
}